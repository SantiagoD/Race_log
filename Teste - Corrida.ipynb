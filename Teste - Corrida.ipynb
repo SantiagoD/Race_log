{
 "cells": [
  {
   "cell_type": "markdown",
   "metadata": {},
   "source": [
    "## Teste Race log\n",
    "### Santiago Davila\n",
    "\n",
    "\n",
    "Vou tratar o log como um texto a ser carregado como um dataframe Pandas, e assim usar os recursos de analise de dados que achei úteis nesse problema. "
   ]
  },
  {
   "cell_type": "code",
   "execution_count": 176,
   "metadata": {},
   "outputs": [],
   "source": [
    "#Importação das bibliotecas necessárias\n",
    "import pandas as pd\n",
    "import numpy as np\n",
    "import datetime\n",
    "import time\n"
   ]
  },
  {
   "cell_type": "markdown",
   "metadata": {},
   "source": [
    "#### Carga do arquivo de texto\n",
    "Utilizo nomes descritivos para as colunas, elimino aquela adicional sem informação."
   ]
  },
  {
   "cell_type": "code",
   "execution_count": 177,
   "metadata": {
    "scrolled": true
   },
   "outputs": [
    {
     "data": {
      "text/html": [
       "<div>\n",
       "<style scoped>\n",
       "    .dataframe tbody tr th:only-of-type {\n",
       "        vertical-align: middle;\n",
       "    }\n",
       "\n",
       "    .dataframe tbody tr th {\n",
       "        vertical-align: top;\n",
       "    }\n",
       "\n",
       "    .dataframe thead th {\n",
       "        text-align: right;\n",
       "    }\n",
       "</style>\n",
       "<table border=\"1\" class=\"dataframe\">\n",
       "  <thead>\n",
       "    <tr style=\"text-align: right;\">\n",
       "      <th></th>\n",
       "      <th>HORA</th>\n",
       "      <th>CODIGO</th>\n",
       "      <th>NOME</th>\n",
       "      <th>NUM_VOLTA</th>\n",
       "      <th>TEMPO_VOLTA</th>\n",
       "      <th>VEL_MEDIA_VOLTA</th>\n",
       "    </tr>\n",
       "  </thead>\n",
       "  <tbody>\n",
       "    <tr>\n",
       "      <th>0</th>\n",
       "      <td>23:49:08.277</td>\n",
       "      <td>38</td>\n",
       "      <td>F.MASSA</td>\n",
       "      <td>1</td>\n",
       "      <td>1:02.852</td>\n",
       "      <td>44,275</td>\n",
       "    </tr>\n",
       "    <tr>\n",
       "      <th>1</th>\n",
       "      <td>23:49:10.858</td>\n",
       "      <td>33</td>\n",
       "      <td>R.BARRICHELLO</td>\n",
       "      <td>1</td>\n",
       "      <td>1:04.352</td>\n",
       "      <td>43,243</td>\n",
       "    </tr>\n",
       "    <tr>\n",
       "      <th>2</th>\n",
       "      <td>23:49:11.075</td>\n",
       "      <td>2</td>\n",
       "      <td>K.RAIKKONEN</td>\n",
       "      <td>1</td>\n",
       "      <td>1:04.108</td>\n",
       "      <td>43,408</td>\n",
       "    </tr>\n",
       "    <tr>\n",
       "      <th>3</th>\n",
       "      <td>23:49:12.667</td>\n",
       "      <td>23</td>\n",
       "      <td>M.WEBBER</td>\n",
       "      <td>1</td>\n",
       "      <td>1:04.414</td>\n",
       "      <td>43,202</td>\n",
       "    </tr>\n",
       "    <tr>\n",
       "      <th>4</th>\n",
       "      <td>23:49:30.976</td>\n",
       "      <td>15</td>\n",
       "      <td>F.ALONSO</td>\n",
       "      <td>1</td>\n",
       "      <td>1:18.456</td>\n",
       "      <td>35,47</td>\n",
       "    </tr>\n",
       "    <tr>\n",
       "      <th>5</th>\n",
       "      <td>23:50:11.447</td>\n",
       "      <td>38</td>\n",
       "      <td>F.MASSA</td>\n",
       "      <td>2</td>\n",
       "      <td>1:03.170</td>\n",
       "      <td>44,053</td>\n",
       "    </tr>\n",
       "    <tr>\n",
       "      <th>6</th>\n",
       "      <td>23:50:14.860</td>\n",
       "      <td>33</td>\n",
       "      <td>R.BARRICHELLO</td>\n",
       "      <td>2</td>\n",
       "      <td>1:04.002</td>\n",
       "      <td>43,48</td>\n",
       "    </tr>\n",
       "    <tr>\n",
       "      <th>7</th>\n",
       "      <td>23:50:15.057</td>\n",
       "      <td>2</td>\n",
       "      <td>K.RAIKKONEN</td>\n",
       "      <td>2</td>\n",
       "      <td>1:03.982</td>\n",
       "      <td>43,493</td>\n",
       "    </tr>\n",
       "  </tbody>\n",
       "</table>\n",
       "</div>"
      ],
      "text/plain": [
       "           HORA  CODIGO           NOME  NUM_VOLTA TEMPO_VOLTA VEL_MEDIA_VOLTA\n",
       "0  23:49:08.277      38        F.MASSA          1    1:02.852          44,275\n",
       "1  23:49:10.858      33  R.BARRICHELLO          1    1:04.352          43,243\n",
       "2  23:49:11.075       2    K.RAIKKONEN          1    1:04.108          43,408\n",
       "3  23:49:12.667      23       M.WEBBER          1    1:04.414          43,202\n",
       "4  23:49:30.976      15       F.ALONSO          1    1:18.456           35,47\n",
       "5  23:50:11.447      38        F.MASSA          2    1:03.170          44,053\n",
       "6  23:50:14.860      33  R.BARRICHELLO          2    1:04.002           43,48\n",
       "7  23:50:15.057       2    K.RAIKKONEN          2    1:03.982          43,493"
      ]
     },
     "execution_count": 177,
     "metadata": {},
     "output_type": "execute_result"
    }
   ],
   "source": [
    "#Nomes de colunas a serem utilizadas\n",
    "column_names = [\"HORA\", \"CODIGO\", \"TRACO\", \"NOME\", \"NUM_VOLTA\", \"TEMPO_VOLTA\", \"VEL_MEDIA_VOLTA\" ]\n",
    "#Carrego o log desconsiderando a primeira linha\n",
    "log_df = pd.read_csv('race_log.txt', delimiter=r\"\\s+\", skiprows=1, names=column_names)\n",
    "#Apago coluna\n",
    "del log_df[\"TRACO\"]\n",
    "#Visualizo primeiros resultados\n",
    "log_df.head(8)"
   ]
  },
  {
   "cell_type": "markdown",
   "metadata": {},
   "source": [
    "#### Análise Exploratório\n",
    "Confiro a quantidade de pilotos, o formato dos dados e se tem valores sem formato correto"
   ]
  },
  {
   "cell_type": "code",
   "execution_count": 178,
   "metadata": {},
   "outputs": [
    {
     "name": "stdout",
     "output_type": "stream",
     "text": [
      "<class 'pandas.core.frame.DataFrame'>\n",
      "RangeIndex: 23 entries, 0 to 22\n",
      "Data columns (total 6 columns):\n",
      "HORA               23 non-null object\n",
      "CODIGO             23 non-null int64\n",
      "NOME               23 non-null object\n",
      "NUM_VOLTA          23 non-null int64\n",
      "TEMPO_VOLTA        23 non-null object\n",
      "VEL_MEDIA_VOLTA    23 non-null object\n",
      "dtypes: int64(2), object(4)\n",
      "memory usage: 1.2+ KB\n"
     ]
    }
   ],
   "source": [
    "log_df.info()"
   ]
  },
  {
   "cell_type": "markdown",
   "metadata": {},
   "source": [
    "Identificamos que não temos valores nulos, e que a hora não está sendo tratada como DATA, irei converter essa informação mas a falta do dia, mes e ano fazem que essa informação não possa ser usada desse jeito. Caso seja necessário teriamos que reconstruir a coluna como timestamps a partir da hora da primeira volta, já que uma corrida pode iniciar num dia e terminar no outro"
   ]
  },
  {
   "cell_type": "code",
   "execution_count": 179,
   "metadata": {},
   "outputs": [],
   "source": [
    "#Conversão a data\n",
    "log_df['HORA'] = pd.to_datetime(log_df['HORA'])"
   ]
  },
  {
   "cell_type": "code",
   "execution_count": 180,
   "metadata": {},
   "outputs": [],
   "source": [
    "#Função para aplicar a conversão de tempo\n",
    "def convert_to_ms(time_string):\n",
    "    t = time.strptime(time_string, '%M:%S.%f')\n",
    "    seconds = datetime.timedelta(hours=t.tm_hour,minutes=t.tm_min,seconds=t.tm_sec).total_seconds()\n",
    "    ms = int(time_string.split('.')[1])\n",
    "    return (1000 * seconds) + ms\n",
    "\n",
    "#Convertemos o texto de tempo de volta em tempo \n",
    "log_df['TEMPO'] = log_df['TEMPO_VOLTA'].apply(lambda x: convert_to_ms(x))\n"
   ]
  },
  {
   "cell_type": "code",
   "execution_count": 181,
   "metadata": {},
   "outputs": [
    {
     "data": {
      "text/html": [
       "<div>\n",
       "<style scoped>\n",
       "    .dataframe tbody tr th:only-of-type {\n",
       "        vertical-align: middle;\n",
       "    }\n",
       "\n",
       "    .dataframe tbody tr th {\n",
       "        vertical-align: top;\n",
       "    }\n",
       "\n",
       "    .dataframe thead th {\n",
       "        text-align: right;\n",
       "    }\n",
       "</style>\n",
       "<table border=\"1\" class=\"dataframe\">\n",
       "  <thead>\n",
       "    <tr style=\"text-align: right;\">\n",
       "      <th></th>\n",
       "      <th>HORA</th>\n",
       "      <th>CODIGO</th>\n",
       "      <th>NOME</th>\n",
       "      <th>NUM_VOLTA</th>\n",
       "      <th>TEMPO_VOLTA</th>\n",
       "      <th>VEL_MEDIA_VOLTA</th>\n",
       "      <th>TEMPO</th>\n",
       "    </tr>\n",
       "  </thead>\n",
       "  <tbody>\n",
       "    <tr>\n",
       "      <th>0</th>\n",
       "      <td>2019-05-05 23:49:08.277</td>\n",
       "      <td>38</td>\n",
       "      <td>F.MASSA</td>\n",
       "      <td>1</td>\n",
       "      <td>1:02.852</td>\n",
       "      <td>44,275</td>\n",
       "      <td>62852.0</td>\n",
       "    </tr>\n",
       "    <tr>\n",
       "      <th>1</th>\n",
       "      <td>2019-05-05 23:49:10.858</td>\n",
       "      <td>33</td>\n",
       "      <td>R.BARRICHELLO</td>\n",
       "      <td>1</td>\n",
       "      <td>1:04.352</td>\n",
       "      <td>43,243</td>\n",
       "      <td>64352.0</td>\n",
       "    </tr>\n",
       "    <tr>\n",
       "      <th>2</th>\n",
       "      <td>2019-05-05 23:49:11.075</td>\n",
       "      <td>2</td>\n",
       "      <td>K.RAIKKONEN</td>\n",
       "      <td>1</td>\n",
       "      <td>1:04.108</td>\n",
       "      <td>43,408</td>\n",
       "      <td>64108.0</td>\n",
       "    </tr>\n",
       "    <tr>\n",
       "      <th>3</th>\n",
       "      <td>2019-05-05 23:49:12.667</td>\n",
       "      <td>23</td>\n",
       "      <td>M.WEBBER</td>\n",
       "      <td>1</td>\n",
       "      <td>1:04.414</td>\n",
       "      <td>43,202</td>\n",
       "      <td>64414.0</td>\n",
       "    </tr>\n",
       "    <tr>\n",
       "      <th>4</th>\n",
       "      <td>2019-05-05 23:49:30.976</td>\n",
       "      <td>15</td>\n",
       "      <td>F.ALONSO</td>\n",
       "      <td>1</td>\n",
       "      <td>1:18.456</td>\n",
       "      <td>35,47</td>\n",
       "      <td>78456.0</td>\n",
       "    </tr>\n",
       "  </tbody>\n",
       "</table>\n",
       "</div>"
      ],
      "text/plain": [
       "                     HORA  CODIGO           NOME  NUM_VOLTA TEMPO_VOLTA  \\\n",
       "0 2019-05-05 23:49:08.277      38        F.MASSA          1    1:02.852   \n",
       "1 2019-05-05 23:49:10.858      33  R.BARRICHELLO          1    1:04.352   \n",
       "2 2019-05-05 23:49:11.075       2    K.RAIKKONEN          1    1:04.108   \n",
       "3 2019-05-05 23:49:12.667      23       M.WEBBER          1    1:04.414   \n",
       "4 2019-05-05 23:49:30.976      15       F.ALONSO          1    1:18.456   \n",
       "\n",
       "  VEL_MEDIA_VOLTA    TEMPO  \n",
       "0          44,275  62852.0  \n",
       "1          43,243  64352.0  \n",
       "2          43,408  64108.0  \n",
       "3          43,202  64414.0  \n",
       "4           35,47  78456.0  "
      ]
     },
     "execution_count": 181,
     "metadata": {},
     "output_type": "execute_result"
    }
   ],
   "source": [
    "log_df.head()"
   ]
  },
  {
   "cell_type": "code",
   "execution_count": 182,
   "metadata": {},
   "outputs": [
    {
     "data": {
      "text/plain": [
       "array(['F.MASSA', 'R.BARRICHELLO', 'K.RAIKKONEN', 'M.WEBBER', 'F.ALONSO',\n",
       "       'S.VETTEL', 'F.MASS'], dtype=object)"
      ]
     },
     "execution_count": 182,
     "metadata": {},
     "output_type": "execute_result"
    }
   ],
   "source": [
    "log_df['NOME'].unique()"
   ]
  },
  {
   "cell_type": "code",
   "execution_count": 183,
   "metadata": {},
   "outputs": [
    {
     "data": {
      "text/plain": [
       "array(['F.MASSA', 'R.BARRICHELLO', 'K.RAIKKONEN', 'M.WEBBER', 'F.ALONSO',\n",
       "       'S.VETTEL'], dtype=object)"
      ]
     },
     "execution_count": 183,
     "metadata": {},
     "output_type": "execute_result"
    }
   ],
   "source": [
    "#Corrigimos o dado errado para manter a consistencia\n",
    "log_df['NOME'] = log_df['NOME'].replace('F.MASS', 'F.MASSA')\n",
    "log_df['NOME'].unique()"
   ]
  },
  {
   "cell_type": "markdown",
   "metadata": {},
   "source": [
    "#### Tratamento dos dados a serem consultados\n",
    "- Posição Chegada\n",
    "- Código Piloto \n",
    "- Nome Piloto \n",
    "- Qtde Voltas Completadas \n",
    "- Tempo Total de Prova\n",
    "\n"
   ]
  },
  {
   "cell_type": "code",
   "execution_count": 184,
   "metadata": {},
   "outputs": [],
   "source": [
    "def convert_to_timestamp(time_ms):\n",
    "    str_time = time.strftime('%H:%M:%S', time.gmtime(time_ms))\n",
    "    ms = time_ms % 1000\n",
    "    rest_sec = (time_ms-ms)/1000 \n",
    "    sec = rest_sec % 60\n",
    "    rest_min = (rest_sec - sec)/60\n",
    "    minute = rest_min % 60\n",
    "    rest_hour = (rest_min-minute)/60\n",
    "    hour = rest_hour % 60\n",
    "    return time.strftime('%H:%M:%S', time.gmtime(rest_sec)) + '.' + str(ms/1000).split('.')[1]\n"
   ]
  },
  {
   "cell_type": "code",
   "execution_count": 185,
   "metadata": {},
   "outputs": [
    {
     "data": {
      "text/html": [
       "<div>\n",
       "<style scoped>\n",
       "    .dataframe tbody tr th:only-of-type {\n",
       "        vertical-align: middle;\n",
       "    }\n",
       "\n",
       "    .dataframe tbody tr th {\n",
       "        vertical-align: top;\n",
       "    }\n",
       "\n",
       "    .dataframe thead th {\n",
       "        text-align: right;\n",
       "    }\n",
       "</style>\n",
       "<table border=\"1\" class=\"dataframe\">\n",
       "  <thead>\n",
       "    <tr style=\"text-align: right;\">\n",
       "      <th></th>\n",
       "      <th>CODIGO</th>\n",
       "      <th>NUM_VOLTA</th>\n",
       "      <th>TEMPO</th>\n",
       "      <th>NOME</th>\n",
       "      <th>POSICAO</th>\n",
       "      <th>TEMPO_TOTAL</th>\n",
       "    </tr>\n",
       "  </thead>\n",
       "  <tbody>\n",
       "    <tr>\n",
       "      <th>0</th>\n",
       "      <td>38</td>\n",
       "      <td>4</td>\n",
       "      <td>251578.0</td>\n",
       "      <td>F.MASSA</td>\n",
       "      <td>1</td>\n",
       "      <td>00:04:11.578</td>\n",
       "    </tr>\n",
       "    <tr>\n",
       "      <th>1</th>\n",
       "      <td>2</td>\n",
       "      <td>4</td>\n",
       "      <td>255153.0</td>\n",
       "      <td>K.RAIKKONEN</td>\n",
       "      <td>2</td>\n",
       "      <td>00:04:15.153</td>\n",
       "    </tr>\n",
       "    <tr>\n",
       "      <th>2</th>\n",
       "      <td>33</td>\n",
       "      <td>4</td>\n",
       "      <td>256080.0</td>\n",
       "      <td>R.BARRICHELLO</td>\n",
       "      <td>3</td>\n",
       "      <td>00:04:16.08</td>\n",
       "    </tr>\n",
       "    <tr>\n",
       "      <th>3</th>\n",
       "      <td>23</td>\n",
       "      <td>4</td>\n",
       "      <td>257722.0</td>\n",
       "      <td>M.WEBBER</td>\n",
       "      <td>4</td>\n",
       "      <td>00:04:17.722</td>\n",
       "    </tr>\n",
       "    <tr>\n",
       "      <th>4</th>\n",
       "      <td>15</td>\n",
       "      <td>4</td>\n",
       "      <td>294221.0</td>\n",
       "      <td>F.ALONSO</td>\n",
       "      <td>5</td>\n",
       "      <td>00:04:54.221</td>\n",
       "    </tr>\n",
       "    <tr>\n",
       "      <th>5</th>\n",
       "      <td>11</td>\n",
       "      <td>3</td>\n",
       "      <td>387276.0</td>\n",
       "      <td>S.VETTEL</td>\n",
       "      <td>6</td>\n",
       "      <td>00:06:27.276</td>\n",
       "    </tr>\n",
       "  </tbody>\n",
       "</table>\n",
       "</div>"
      ],
      "text/plain": [
       "   CODIGO  NUM_VOLTA     TEMPO           NOME  POSICAO   TEMPO_TOTAL\n",
       "0      38          4  251578.0        F.MASSA        1  00:04:11.578\n",
       "1       2          4  255153.0    K.RAIKKONEN        2  00:04:15.153\n",
       "2      33          4  256080.0  R.BARRICHELLO        3   00:04:16.08\n",
       "3      23          4  257722.0       M.WEBBER        4  00:04:17.722\n",
       "4      15          4  294221.0       F.ALONSO        5  00:04:54.221\n",
       "5      11          3  387276.0       S.VETTEL        6  00:06:27.276"
      ]
     },
     "execution_count": 185,
     "metadata": {},
     "output_type": "execute_result"
    }
   ],
   "source": [
    "group_df = log_df \\\n",
    ".groupby('CODIGO') \\\n",
    ".agg(\n",
    "    {\n",
    "        #Voltas completadas\n",
    "        'NUM_VOLTA': 'max',\n",
    "        #Tempo total de prova\n",
    "        'TEMPO': \"sum\",\n",
    "        # min, first, and number of unique dates per group\n",
    "        'NOME': 'first',\n",
    "    }\n",
    ")\n",
    "group_df = group_df.reset_index()\n",
    "group_df = group_df.sort_values(by='NUM_VOLTA', ascending=False).sort_values(by='TEMPO', ascending=True)\n",
    "group_df = group_df.reset_index()\n",
    "\n",
    "del group_df['index']\n",
    "group_df['POSICAO']= group_df.index +1\n",
    "\n",
    "group_df['TEMPO_TOTAL'] = group_df['TEMPO'].apply(lambda x: convert_to_timestamp(x))\n",
    "\n",
    "group_df.head(10)"
   ]
  },
  {
   "cell_type": "code",
   "execution_count": null,
   "metadata": {},
   "outputs": [],
   "source": []
  }
 ],
 "metadata": {
  "kernelspec": {
   "display_name": "Python 3",
   "language": "python",
   "name": "python3"
  },
  "language_info": {
   "codemirror_mode": {
    "name": "ipython",
    "version": 3
   },
   "file_extension": ".py",
   "mimetype": "text/x-python",
   "name": "python",
   "nbconvert_exporter": "python",
   "pygments_lexer": "ipython3",
   "version": "3.7.1"
  }
 },
 "nbformat": 4,
 "nbformat_minor": 2
}
